{
 "cells": [
  {
   "cell_type": "markdown",
   "metadata": {},
   "source": [
    "# Feature Selection Methods:\n",
    "# 1. Filter Method:\n",
    " * a. Pearson's correlation:\n",
    "   * you can only draw pearson correlation between the two numerical or countinues column"
   ]
  },
  {
   "cell_type": "code",
   "execution_count": 1,
   "metadata": {},
   "outputs": [],
   "source": [
    "# its a dummmy code for the finding the correlation of the feature\n",
    "import pandas as pd\n",
    "from scipy.stats import pearsonr\n",
    "\n",
    "data = pd.read_csv('your_dataset.csv')\n",
    "features = data.drop('target',axis=1)\n",
    "target = data['target']\n",
    "\n",
    "correlations = []\n",
    "for column in features.columns:\n",
    "    correlation, _ = pearsonr(features[column],target)\n",
    "    correlations.append((column,abs(correlation)))\n",
    "\n",
    "correlations.sort(key=lambda x: x[1],reverse=True)\n",
    "selected_features = [feature for feature, _ in correlations[:k]] # selection top k features"
   ]
  },
  {
   "cell_type": "code",
   "execution_count": 2,
   "metadata": {},
   "outputs": [
    {
     "name": "stderr",
     "output_type": "stream",
     "text": [
      "C:\\Users\\ANZAR AZIZ\\AppData\\Local\\Temp\\ipykernel_12524\\2060343410.py:14: FutureWarning: The default value of numeric_only in DataFrame.corr is deprecated. In a future version, it will default to False. Select only valid columns or specify the value of numeric_only to silence this warning.\n",
      "  correlation = tips.corr(method ='pearson')['tip'].sort_values()\n"
     ]
    },
    {
     "data": {
      "text/plain": [
       "['size', 'total_bill', 'tip']"
      ]
     },
     "execution_count": 2,
     "metadata": {},
     "output_type": "execute_result"
    }
   ],
   "source": [
    "# on a real dataset like tips dataset\n",
    "import pandas as pd \n",
    "import seaborn as sns\n",
    "from scipy.stats import pearsonr\n",
    "\n",
    "# load the data\n",
    "tips = sns.load_dataset('tips')\n",
    "\n",
    "X = tips.drop('tip',axis=1)\n",
    "y = tips['tip']\n",
    "\n",
    "# calculate the pearson correlation between feature and target variables\n",
    "\n",
    "correlation = tips.corr(method ='pearson')['tip'].sort_values()\n",
    "\n",
    "# now we will select feature having corr > 0.2 and -0.2 as our final feature\n",
    "\n",
    "selected_features = correlation[abs(correlation) > 0.2].index.tolist()\n",
    "selected_features"
   ]
  },
  {
   "cell_type": "markdown",
   "metadata": {},
   "source": [
    "# 2. Wraper Method\n",
    "# REF (Recrusive Feature Elimination)\n"
   ]
  },
  {
   "cell_type": "code",
   "execution_count": null,
   "metadata": {},
   "outputs": [],
   "source": [
    "from sklearn.feature_seletion import REF\n",
    "from sklearn.linear_model import LinearRegression\n",
    "\n",
    "data =pd.read_csv('you_data.csv')\n",
    "feature = data.drop('target',axis=1)\n",
    "target = data['target']\n",
    "\n",
    "model = LinearRegression()\n",
    "selector = RFE(model,n_features_to_select=10,step=1)\n",
    "selector.fit(features,target)\n",
    "\n",
    "selected_features = features.column[selector.get_support()]"
   ]
  },
  {
   "cell_type": "markdown",
   "metadata": {},
   "source": [
    "# SFS (Sequential Feature Selection)"
   ]
  },
  {
   "cell_type": "code",
   "execution_count": null,
   "metadata": {},
   "outputs": [],
   "source": [
    "from mlxtend.feature_seletion import SequentialFeatureSelector\n",
    "from sklearn.linear_model import LinearRegression\n",
    "\n",
    "data =pd.read_csv('you_data.csv')\n",
    "feature = data.drop('target',axis=1)\n",
    "target = data['target']\n",
    "\n",
    "model = LinearRegression()\n",
    "selector = SequentialFeatureSelector(model,k_features=10,forward=True,scoring='neg_mean_squared_error')\n",
    "selector.fit(features,target)\n",
    "\n",
    "selected_features = features.columns[list(selector.k_feature_idx_)]"
   ]
  }
 ],
 "metadata": {
  "kernelspec": {
   "display_name": "py34",
   "language": "python",
   "name": "python3"
  },
  "language_info": {
   "codemirror_mode": {
    "name": "ipython",
    "version": 3
   },
   "file_extension": ".py",
   "mimetype": "text/x-python",
   "name": "python",
   "nbconvert_exporter": "python",
   "pygments_lexer": "ipython3",
   "version": "3.10.12"
  },
  "orig_nbformat": 4
 },
 "nbformat": 4,
 "nbformat_minor": 2
}
